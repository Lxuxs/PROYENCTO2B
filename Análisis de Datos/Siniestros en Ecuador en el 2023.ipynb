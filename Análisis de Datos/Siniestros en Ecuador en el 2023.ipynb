﻿{
  "metadata": {
    "name": "Siniestros en Ecuador en el 2023",
    "kernelspec": {
      "language": "scala",
      "name": "spark2-scala"
    },
    "language_info": {
      "codemirror_mode": "text/x-scala",
      "file_extension": ".scala",
      "mimetype": "text/x-scala",
      "name": "scala",
      "pygments_lexer": "scala"
    }
  },
  "nbformat": 4,
  "nbformat_minor": 2,
  "cells": [
    {
      "cell_type": "markdown",
      "metadata": {},
      "source": "# Parametros de conexión con la base de datos"
    },
    {
      "cell_type": "code",
      "execution_count": 1,
      "metadata": {
        "autoscroll": "auto"
      },
      "outputs": [],
      "source": "val jdbcUrl \u003d \"jdbc:mysql://localhost:3306/proyecto\" \nval connectionProperties \u003d new java.util.Properties()\nconnectionProperties.setProperty(\"user\", \"root\")\nconnectionProperties.setProperty(\"password\", \"Salamanca_0214\")\nconnectionProperties.setProperty(\"driver\", \"com.mysql.cj.jdbc.Driver\")\n"
    },
    {
      "cell_type": "markdown",
      "metadata": {},
      "source": " \n### Carga de la tabla vehiculos_matriculados como DataFrame"
    },
    {
      "cell_type": "code",
      "execution_count": 3,
      "metadata": {
        "autoscroll": "auto"
      },
      "outputs": [],
      "source": "val df_vehiculos \u003d spark.read\n  .jdbc(jdbcUrl, \"vehiculos_matriculados\", connectionProperties)\n\ndf_vehiculos.createOrReplaceTempView(\"vehiculos_matriculados\")"
    },
    {
      "cell_type": "markdown",
      "metadata": {},
      "source": "### Carga de la tabla provincia como DataFrame"
    },
    {
      "cell_type": "code",
      "execution_count": 5,
      "metadata": {
        "autoscroll": "auto"
      },
      "outputs": [],
      "source": "val df_provincia \u003d spark.read.jdbc(jdbcUrl, \"provincia\", connectionProperties)\ndf_provincia.createOrReplaceTempView(\"provincia\")"
    },
    {
      "cell_type": "markdown",
      "metadata": {},
      "source": "### Carga de la tabla mes como DataFrame"
    },
    {
      "cell_type": "code",
      "execution_count": 7,
      "metadata": {
        "autoscroll": "auto"
      },
      "outputs": [],
      "source": "val df_mes \u003d spark.read.jdbc(jdbcUrl, \"mes\", connectionProperties)\ndf_mes.createOrReplaceTempView(\"mes\")\n"
    },
    {
      "cell_type": "markdown",
      "metadata": {},
      "source": "### Carga de la tabla siniestro_mes como DataFrame"
    },
    {
      "cell_type": "code",
      "execution_count": 9,
      "metadata": {
        "autoscroll": "auto"
      },
      "outputs": [],
      "source": "val df_siniestros \u003d spark.read.jdbc(jdbcUrl, \"siniestro_mes\", connectionProperties)\ndf_siniestros.createOrReplaceTempView(\"siniestro_mes\")"
    },
    {
      "cell_type": "markdown",
      "metadata": {},
      "source": "### Carga de la tabla victimas_provincia como DataFrame"
    },
    {
      "cell_type": "code",
      "execution_count": 11,
      "metadata": {
        "autoscroll": "auto"
      },
      "outputs": [],
      "source": "val df_victimas \u003d spark.read.jdbc(jdbcUrl, \"victimas_provincia\", connectionProperties)\ndf_victimas.createOrReplaceTempView(\"victimas_provincia\")"
    },
    {
      "cell_type": "markdown",
      "metadata": {},
      "source": "# Consultas"
    },
    {
      "cell_type": "markdown",
      "metadata": {},
      "source": "### Total de siniestros por provincia"
    },
    {
      "cell_type": "code",
      "execution_count": 14,
      "metadata": {
        "autoscroll": "auto"
      },
      "outputs": [],
      "source": "val siniestrosPorProvincia \u003d df_siniestros\n  .groupBy(\"provincia_id\")\n  .agg(sum(\"num_siniestros\").alias(\"total_siniestros\"))\n  .join(df_provincia, Seq(\"provincia_id\"))\n  .select(\"Provincia\", \"total_siniestros\")\n  .orderBy(desc(\"total_siniestros\"))\n\nz.show(siniestrosPorProvincia)"
    },
    {
      "cell_type": "markdown",
      "metadata": {},
      "source": " \n### Siniestros por mes (nacional)"
    },
    {
      "cell_type": "code",
      "execution_count": 16,
      "metadata": {
        "autoscroll": "auto"
      },
      "outputs": [],
      "source": "val siniestrosPorMes \u003d df_siniestros\n  .groupBy(\"mes_id\")\n  .agg(sum(\"num_siniestros\").alias(\"total_siniestros\"))\n  .join(df_mes, df_siniestros(\"mes_id\") \u003d\u003d\u003d df_mes(\"id_mes\"))\n  .select(\"mes\", \"total_siniestros\")\n  .orderBy(desc(\"total_siniestros\"))\n\nz.show(siniestrosPorMes)"
    },
    {
      "cell_type": "markdown",
      "metadata": {},
      "source": "### Índice de víctimas por siniestro por provincia"
    },
    {
      "cell_type": "code",
      "execution_count": 18,
      "metadata": {
        "autoscroll": "auto"
      },
      "outputs": [],
      "source": "val siniestrosPorProvinciaAgg \u003d df_siniestros\n  .groupBy(\"provincia_id\")\n  .agg(sum(\"num_siniestros\").alias(\"siniestros_total\"))\n\nval victimasPorSiniestro \u003d df_victimas\n  .join(siniestrosPorProvinciaAgg, \"provincia_id\")\n  .join(df_provincia, \"provincia_id\")\n  .withColumn(\"victimas_por_siniestro\", col(\"total_victimas\") / col(\"siniestros_total\"))\n  .select(\"Provincia\", \"total_victimas\", \"siniestros_total\", \"victimas_por_siniestro\")\n  .orderBy(desc(\"victimas_por_siniestro\"))\n\nz.show(victimasPorSiniestro)"
    },
    {
      "cell_type": "markdown",
      "metadata": {},
      "source": "### Tipos de vehículos más frecuentes por provincia"
    },
    {
      "cell_type": "code",
      "execution_count": 20,
      "metadata": {
        "autoscroll": "auto"
      },
      "outputs": [],
      "source": "val df_veh \u003d df_vehiculos.alias(\"veh\")\nval df_prov \u003d df_provincia.alias(\"prov\")\n\nval clasesPorProvincia \u003d df_veh\n  .groupBy(\"PROVINCIA\", \"CLASE\")\n  .agg(count(\"*\").alias(\"cantidad\"))\n  .join(df_prov, col(\"veh.PROVINCIA\") \u003d\u003d\u003d col(\"prov.provincia_id\"))\n  .select(col(\"prov.Provincia\").alias(\"Provincia\"), col(\"CLASE\"), col(\"cantidad\"))\n  .orderBy(col(\"Provincia\"), col(\"cantidad\").desc)\n\nz.show(clasesPorProvincia)\n"
    },
    {
      "cell_type": "markdown",
      "metadata": {},
      "source": "### Relación entre número de vehículos y número de siniestros por provincia"
    },
    {
      "cell_type": "code",
      "execution_count": 22,
      "metadata": {
        "autoscroll": "auto"
      },
      "outputs": [],
      "source": "val siniestros \u003d df_siniestros.groupBy(\"provincia_id\")\n  .agg(sum(\"num_siniestros\").alias(\"total_siniestros\"))\n\nval vehiculos \u003d df_vehiculos.groupBy(\"PROVINCIA\")\n  .agg(count(\"*\").alias(\"total_vehiculos\"))\n\nval prov \u003d df_provincia.alias(\"prov\")\n\nval relacion \u003d siniestros\n  .join(vehiculos, siniestros(\"provincia_id\") \u003d\u003d\u003d vehiculos(\"PROVINCIA\"))\n  .join(prov, siniestros(\"provincia_id\") \u003d\u003d\u003d prov(\"provincia_id\"))\n  .select(\n    prov(\"Provincia\").alias(\"Provincia\"),\n    col(\"total_vehiculos\"),\n    col(\"total_siniestros\"),\n    round(col(\"total_siniestros\") / col(\"total_vehiculos\"), 4).alias(\"siniestros_por_vehiculo\")\n  )\n  .orderBy(desc(\"siniestros_por_vehiculo\"))\n\nz.show(relacion)\n"
    },
    {
      "cell_type": "markdown",
      "metadata": {},
      "source": "### ¿Qué tipo de vehículos predominan en provincias con muchos siniestros?"
    },
    {
      "cell_type": "code",
      "execution_count": 24,
      "metadata": {
        "autoscroll": "auto"
      },
      "outputs": [],
      "source": "val dfv \u003d df_vehiculos.alias(\"veh\")\nval dfp \u003d df_provincia.alias(\"prov\")\n\nval tiposPorProvincia \u003d dfv\n  .groupBy(col(\"veh.PROVINCIA\"), col(\"veh.CLASE\"))\n  .agg(count(\"*\").alias(\"cantidad\"))\n  .join(dfp, col(\"veh.PROVINCIA\") \u003d\u003d\u003d col(\"prov.provincia_id\"))\n  .select(col(\"prov.Provincia\").alias(\"Provincia\"), col(\"veh.CLASE\").alias(\"Clase\"), col(\"cantidad\"))\n  .orderBy(col(\"Provincia\"), col(\"cantidad\").desc)\n\nz.show(tiposPorProvincia)"
    },
    {
      "cell_type": "markdown",
      "metadata": {},
      "source": "### ¿Hay relación entre el tipo de combustible y accidentes?"
    },
    {
      "cell_type": "code",
      "execution_count": 26,
      "metadata": {
        "autoscroll": "auto"
      },
      "outputs": [],
      "source": "val combustiblePorProvincia \u003d df_vehiculos\n  .groupBy(\"PROVINCIA\", \"COMBUSTIBLE\")\n  .agg(count(\"*\").alias(\"cantidad\"))\n\nz.show(combustiblePorProvincia)"
    },
    {
      "cell_type": "markdown",
      "metadata": {},
      "source": "### Provincias con muchos vehículos pero pocos siniestros"
    },
    {
      "cell_type": "code",
      "execution_count": 28,
      "metadata": {
        "autoscroll": "auto"
      },
      "outputs": [],
      "source": "val buenasPracticas \u003d relacion.filter(col(\"siniestros_por_vehiculo\") \u003c 0.50)\n\nz.show(buenasPracticas)"
    },
    {
      "cell_type": "markdown",
      "metadata": {},
      "source": " \n# Interpretaciones"
    },
    {
      "cell_type": "markdown",
      "metadata": {},
      "source": "## Consulta 1 - Total de siniestros por provincia \n\nLa consulta realizada muestra los siniestros viales del año 2023 por provincia. A partir del gráfico generado, se observa que las provincias con mayor cantidad de accidentes son las provincias de Guayas y Pichincha, lo cual resulta coherente considerando que allí se ubican ciudades como Guayaquil y Quito, capitales del país y que se caracterizan por su alta densidad poblacional y mayor cantidad de vehículos. \n\nPor otro lado, provincias como Manabí, Azuay y Santo Domingo también presentan cifras elevadas, mientras que territorios con menor población o tránsito, como Galápagos o Zamora Chinchipe, registran pocos siniestros. \n\nSi bien esta consulta no profundiza en las causas, sí permite identificar las zonas más afectadas por la siniestralidad vial, y permite dar a conocer los puntos más conflictivos a nivel nacional. "
    },
    {
      "cell_type": "markdown",
      "metadata": {},
      "source": "## Consulta 2 - Siniestros por mes (nacional)\n\nLa consulta realizada refleja los siniestros viales registrados en el año 2023 divididos por meses. Los resultados se ven en un gráfico de líneas que permite identificar una tendencia general ascedente en el paso del tiempo en el año. \n\nDiciembre fue el mes con mayor número de siniestros, seguido por julio y septiembre. Esto podría estar relacionado con el incremento del tráfico debido a periodos de feriados nacionales, vacaciones o eventos de fin de año. En contraste, marzo y abril presentan las cifras más bajas, posiblemente por factores como condiciones climáticas adversas o una mayor eficacia en los controles viales. \n\nLos resultados permiten detectar los periodos de mayor riesgo, lo que puede servir de base para planificar campañas preventivas o reforzar medidas de seguridad vial en los meses más críticos. "
    },
    {
      "cell_type": "markdown",
      "metadata": {},
      "source": "## Consulta 3 - Índice de víctimas por siniestro por provincia\n\n\nEsta consulta cruza el total de víctimas registradas con el total de siniestros por provincia, calcula un indicador llamado “víctimas por siniestro”, que muestra un promedio de cuántas personas resultan afectadas por accidente en cada provincia. \n\nEl gráfico revela que existe una relación entre las provincias con mayor cantidad de siniestros y su gravedad, como es el caso de Guayas y Pichincha. Esto indica que en esas zonas los accidentes suelen ser más graves o afectan a más personas. \n\nEste tipo de análisis ayuda a identificar regiones donde no solo hay siniestros frecuentes, sino también más severos. Las causas podrían estar relacionadas con el tipo de vía, la velocidad con la que se circula, una señalización deficiente o acceso limitado a servicios de emergencia. "
    },
    {
      "cell_type": "markdown",
      "metadata": {},
      "source": "## Consulta 4 - Tipos de vehículos más frecuentes por provincia \n\nLa consulta muestra cuántos vehículos están matriculados en cada una de las provincias, agrupados por diferentes clases (moto, auto particular, camión, etc.). El gráfico permite identificar qué tipo de vehículo predomina en cada provincia. \n\nLas motos tienen una alta presencia en varias provincias, lo que refleja su uso como medio de movilidad económica, aunque también representan mayor vulnerabilidad. Los camiones destacan en zonas con fuerte actividad comercial o rutas logísticas, como Guayas o El Oro, lo que indica su relación con el transporte de carga. Por otro lado, los autos particulares predominan en provincias urbanizadas como Pichincha y Azuay, donde hay mayor densidad poblacional. \n\nEsta distribución permite entender el perfil de movilidad de cada provincia y puede relacionarse con el tipo y frecuencia de los siniestros analizados en consultas anteriores. "
    },
    {
      "cell_type": "markdown",
      "metadata": {},
      "source": "## Consulta 5 - Relación entre número de vehículos y número de siniestros por provincia \n\nEsta consulta cruza el número total de siniestros con el total de vehículos registrados por provincia. El objetivo es observar si existe alguna correlación entre la cantidad de vehículos en circulación y la ocurrencia de accidentes. \n\nEl gráfico muestra que provincias como Guayas y Pichincha concentran tanto una alta cantidad de vehículos como una alta cantidad de siniestros, lo cual es acorde a la realidad considerando su densidad poblacional, nivel de urbanización y volumen de tránsito diario. \n\nSin embargo, también se evidencian provincias donde, a pesar de tener un número relativamente bajo de vehículos, los siniestros son proporcionalmente altos, como lo son Cotopaxi y Esmeraldas. Esto puede sugerir problemas en infraestructura vial, señalización deficiente o menor control del tránsito. \n\nEn general, esta relación ayuda a entender si la frecuencia de accidentes está asociada simplemente al número de vehículos o si hay otros factores estructurales o sociales involucrados. "
    },
    {
      "cell_type": "markdown",
      "metadata": {},
      "source": "## Consulta 6 - ¿Qué tipo de vehículos predominan en provincias con muchos siniestros? \n\nLa consulta agrupa los vehículos por tipo y por provincia, mostrando cuántos hay de cada tipo en cada provincia. El gráfico permite comparar cómo varía el parque vehicular según la región. \n\nSe observa que provincias como Guayas, Pichincha y Manabí presentan una mayor diversidad y cantidad de vehículos, lo cual está relacionado con su nivel de urbanización y actividad económica. \n\t\nPor otro lado, provincias con menor densidad poblacional como Galápagos o Zamora Chinchipe tienen menos presencia vehicular, lo que también implica menos tipos de vehículos en circulación, considerando que tienen menor población. \n\nEsta información es útil para entender el perfil de movilidad de cada provincia, ya que el tipo de vehículo predominante (motos, camiones, autos particulares, etc.) puede estar vinculado con el uso cotidiano, la economía local o la infraestructura vial disponible. \n"
    },
    {
      "cell_type": "markdown",
      "metadata": {},
      "source": "## Consulta 7 - ¿Hay relación entre el tipo de combustible y accidentes? \n\nLa consulta agrupa cuántos vehículos hay por tipo de combustible en cada provincia, permitiendo observar si existe alguna relación indirecta con la cantidad de accidentes registrados. \n\nAunque el gráfico no muestra directamente la conexión entre combustible y siniestros, se puede hacer una interpretación basada en el contexto: \n\n - Vehículos a diésel, que suelen ser camiones o transporte pesado, están más presentes en provincias con actividad comercial o logística como Guayas, El Oro o Manabí, lo que podría influir en el tipo y gravedad de los siniestros registrados allí. \n\n - Vehículos a gasolina, más comunes en zonas urbanas como Pichincha o Azuay, suelen ser autos particulares con alta circulación diaria, lo que incrementa la exposición al riesgo de estar en un siniestro. \n\n - En cambio, vehículos eléctricos o híbridos aún tienen baja presencia, por lo que no se puede establecer un patrón claro con respecto a su relación con los accidentes. \n\nEn conclusión, aunque el tipo de combustible no causa directamente un accidente, sí puede estar relacionado con el tipo de vehículo y su función, lo cual influye en el comportamiento vial y en la dinámica de los siniestros por provincia. "
    },
    {
      "cell_type": "markdown",
      "metadata": {},
      "source": "## Consulta 8 - Provincias con muchos vehículos, pero pocos siniestros \n\nEsta consulta identifica provincias donde, a pesar de tener una cantidad considerable de vehículos matriculados, el número de siniestros registrados es bajo en proporción. Se utiliza como criterio que el promedio de siniestros por vehículo sea menor al 50%, ya que este porcentaje es óptimo para poder obtener algunas provincias y poder desarrollar una interpretación. \n\nProvincias como Cañar, Sucumbíos y Carchi destacan porque, aunque cuentan con cientos de vehículos registrados, logran mantener los niveles de accidentes relativamente bajos. Esto podría estar relacionado con mejores prácticas viales, menor congestión vehicular, o una conducción más responsable. \n\nEs importante resaltar que el porcentaje de vehiculos involucrados en un siniestro de tránsito en Ecuador es bastante alto, teniendo en cuenta que Galapagos, el cual no se caracteriza por tener una gran cantidad de vehículos, tiene un porcentaje del 36%, y así se pueden encontrar más provincias que presentan el mismo caso. \n\nEste análisis permite identificar zonas que, por sus resultados, podrían tomarse como ejemplo para otras provincias más conflictivas en términos de siniestralidad."
    }
  ]
}